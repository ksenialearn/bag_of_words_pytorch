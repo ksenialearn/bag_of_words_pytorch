{
 "cells": [
  {
   "cell_type": "markdown",
   "metadata": {},
   "source": [
    "We will start by downloading IMDB data"
   ]
  },
  {
   "cell_type": "code",
   "execution_count": 65,
   "metadata": {
    "collapsed": true
   },
   "outputs": [],
   "source": [
    "import os\n",
    "import random\n",
    "import spacy\n",
    "import string\n",
    "import pickle as pkl\n",
    "from collections import Counter\n",
    "import numpy as np\n",
    "import torch\n",
    "from torch.utils.data import Dataset\n",
    "import torch\n",
    "import torch.nn as nn\n",
    "import torch.nn.functional as F\n",
    "from matplotlib import pyplot as plt"
   ]
  },
  {
   "cell_type": "code",
   "execution_count": 39,
   "metadata": {},
   "outputs": [],
   "source": [
    "#Download and preprocess data into the right format\n",
    "\n",
    "def read_files_into_list(directory):\n",
    "    '''Read text files from the directory into a list'''\n",
    "    \n",
    "    files = os.listdir(directory)\n",
    "    list_of_files = []\n",
    "    \n",
    "    for file in files:\n",
    "        with open(directory+file, 'r') as content_file:\n",
    "            content = content_file.read()\n",
    "            list_of_files.append(content.replace('<br />','')) #remove <br />\n",
    "    return list_of_files\n",
    "\n",
    "def create_model_set(positive_reviews_list, negative_reviews_list):\n",
    "    '''Create shuffled list of targets and inputs'''\n",
    "    #Add target variable \n",
    "    pos = [1]*len(positive_reviews_list)\n",
    "    neg = [0]*len(negative_reviews_list)\n",
    "\n",
    "    #Create lists of inputs and targets\n",
    "    inputs = negative_reviews_list+positive_reviews_list\n",
    "    targets = neg+pos\n",
    "\n",
    "    #Shuffle the data\n",
    "    random.seed(5)\n",
    "    data_ind = list(range(0,len(inputs)))\n",
    "    random.shuffle(data_ind)\n",
    "    \n",
    "    shuffled_inputs = [inputs[i] for i in data_ind]\n",
    "    shuffled_targets = [targets[i] for i in data_ind]\n",
    "    \n",
    "    return shuffled_inputs, shuffled_targets\n",
    "\n",
    "\n",
    "train_negative_reviews_list = read_files_into_list('../train_data.nosync/neg/')\n",
    "train_positive_reviews_list = read_files_into_list('../train_data.nosync/pos/')\n",
    "\n",
    "all_train_data, all_train_targets = create_model_set(train_positive_reviews_list, \n",
    "                                  train_negative_reviews_list)\n",
    "\n",
    "test_negative_reviews_list = read_files_into_list('../test_data.nosync/neg/')\n",
    "test_positive_reviews_list = read_files_into_list('../test_data.nosync/neg/')\n",
    "\n",
    "all_test_data, all_test_targets = create_model_set(test_positive_reviews_list, \n",
    "                                  test_negative_reviews_list)\n"
   ]
  },
  {
   "cell_type": "code",
   "execution_count": 40,
   "metadata": {},
   "outputs": [
    {
     "name": "stdout",
     "output_type": "stream",
     "text": [
      "Train dataset size is 20000\n",
      "Val dataset size is 5000\n",
      "Test dataset size is 25000\n"
     ]
    }
   ],
   "source": [
    "# Split train data into actual train and validation sets\n",
    "\n",
    "train_split = 20000\n",
    "train_data = all_train_data[:train_split]\n",
    "train_targets = all_train_targets[:train_split]\n",
    "\n",
    "val_data = all_train_data[train_split:]\n",
    "val_targets = all_train_targets[train_split:]\n",
    "\n",
    "test_data = all_test_data\n",
    "test_targets = all_test_targets\n",
    "\n",
    "print (\"Train dataset size is {}\".format(len(train_data)))\n",
    "print (\"Val dataset size is {}\".format(len(val_data)))\n",
    "print (\"Test dataset size is {}\".format(len(test_data)))"
   ]
  },
  {
   "cell_type": "code",
   "execution_count": 41,
   "metadata": {},
   "outputs": [
    {
     "name": "stdout",
     "output_type": "stream",
     "text": [
      "I am a big fan of this film and found the TV mini series \"Children of The Dust\", the version fans should look for. At least 20 minutes or more are cut on the DVD version of this film.I would also suggest viewers who enjoyed this film to check out the book there is a more rounded storyline with Corby/Whitewolf and Rachel, more on Black History and Buffalo Solders. There were two many storylines for the series or this film.Sidney Poitier only shows he gets better with age, the talent just keeps growing the chemistry between his character of Gypsy Smith and Regina Taylor were wonderful viewing. I also enjoyed the Billy Wirth/Joanna Going storyline, they seems to play off each other well.Billy Wirth is of course the \"Model of Indian Vision\". The look, the attitude, the dream of every woman who was wanted to be carried off in one of those romance novels by a native hero. Worked for me also.Much more could have been done with this storyline but it did give the viewer a brief glimpse of racial problems back in the 1880's, white take over of native schooling, lack of Black pioneers to setup towns in the west. Michael Moriarty (Maxwell) as always a great actor comes across as a very caring and confused teacher, not sure if the \"whites\" should be interfering with native culture.For anyone who enjoys characters and watching them change this film is for you. I thought the chemistry between Poitier's character and that of the orphan Whitewolf very moving and thought Wirth and Poitier worked very well together. Billy Wirth did some of his best scenes when working with Poitier.Going got on my nerves sometimes when you want to just stop and shake her or give her a \" wake-up and grown-up\" call. But on the whole it was a great evening of entertainment.Look for the two tape version of this mini series if you are a fan you will really see the difference.\n"
     ]
    }
   ],
   "source": [
    "# Random sample from train dataset\n",
    "print (train_data[random.randint(0, len(train_data) - 1)])"
   ]
  },
  {
   "cell_type": "code",
   "execution_count": 42,
   "metadata": {},
   "outputs": [],
   "source": [
    "# Tokenization function using Spacy\n",
    "\n",
    "# Load English tokenizer, tagger, parser, NER and word vectors\n",
    "tokenizer = spacy.load('en_core_web_sm')\n",
    "punctuations = string.punctuation\n",
    "\n",
    "# lowercase and remove punctuation\n",
    "def tokenize(sent):\n",
    "    tokens = tokenizer(sent)\n",
    "    return [token.text.lower() for token in tokens if (token.text not in punctuations)]\n"
   ]
  },
  {
   "cell_type": "code",
   "execution_count": 45,
   "metadata": {},
   "outputs": [
    {
     "name": "stdout",
     "output_type": "stream",
     "text": [
      "Tokenizing val data\n",
      "Tokenizing test data\n",
      "Tokenizing train data\n"
     ]
    }
   ],
   "source": [
    "# This is the code cell that tokenizes train/val/test datasets\n",
    "\n",
    "def tokenize_dataset(dataset):\n",
    "    token_dataset = []\n",
    "    # we are keeping track of all tokens in dataset \n",
    "    # in order to create vocabulary later\n",
    "    all_tokens = []\n",
    "    \n",
    "    for sample in dataset: #for each sentence\n",
    "        tokens = tokenize(sample)\n",
    "        token_dataset.append(tokens)\n",
    "        all_tokens += tokens\n",
    "\n",
    "    return token_dataset, all_tokens\n",
    "\n",
    "# val set tokens\n",
    "print (\"Tokenizing val data\")\n",
    "val_data_tokens, _ = tokenize_dataset(val_data)\n",
    "pkl.dump(val_data_tokens, open(\"val_data_tokens.p\", \"wb\"))\n",
    "\n",
    "# test set tokens\n",
    "print (\"Tokenizing test data\")\n",
    "test_data_tokens, _ = tokenize_dataset(test_data)\n",
    "pkl.dump(test_data_tokens, open(\"test_data_tokens.p\", \"wb\"))\n",
    "\n",
    "# train set tokens\n",
    "print (\"Tokenizing train data\")\n",
    "train_data_tokens, all_train_tokens = tokenize_dataset(train_data)\n",
    "pkl.dump(train_data_tokens, open(\"train_data_tokens.p\", \"wb\"))\n",
    "pkl.dump(all_train_tokens, open(\"all_train_tokens.p\", \"wb\"))"
   ]
  },
  {
   "cell_type": "code",
   "execution_count": 46,
   "metadata": {},
   "outputs": [
    {
     "name": "stdout",
     "output_type": "stream",
     "text": [
      "Train dataset size is 20000\n",
      "Val dataset size is 5000\n",
      "Test dataset size is 25000\n",
      "Total number of tokens in train dataset is 4648501\n"
     ]
    }
   ],
   "source": [
    "#If Downloading tokenized datasets\n",
    "\n",
    "# Then, load preprocessed train, val and test datasets\n",
    "train_data_tokens = pkl.load(open(\"train_data_tokens.p\", \"rb\"))\n",
    "all_train_tokens = pkl.load(open(\"all_train_tokens.p\", \"rb\"))\n",
    "\n",
    "val_data_tokens = pkl.load(open(\"val_data_tokens.p\", \"rb\"))\n",
    "test_data_tokens = pkl.load(open(\"test_data_tokens.p\", \"rb\"))\n",
    "\n",
    "# double checking\n",
    "print (\"Train dataset size is {}\".format(len(train_data_tokens)))\n",
    "print (\"Val dataset size is {}\".format(len(val_data_tokens)))\n",
    "print (\"Test dataset size is {}\".format(len(test_data_tokens)))\n",
    "\n",
    "print (\"Total number of tokens in train dataset is {}\".format(len(all_train_tokens)))"
   ]
  },
  {
   "cell_type": "markdown",
   "metadata": {},
   "source": [
    "Now, we are going to create the vocabulary of most common tokens in the training set."
   ]
  },
  {
   "cell_type": "code",
   "execution_count": 48,
   "metadata": {
    "collapsed": true
   },
   "outputs": [],
   "source": [
    "#Try 10,000 most common tokens\n",
    "\n",
    "max_vocab_size = 10000\n",
    "# save index 1 for unk and 0 for pad\n",
    "PAD_IDX = 0\n",
    "UNK_IDX = 1\n",
    "\n",
    "def build_vocab(all_tokens):\n",
    "    # Returns:\n",
    "    # id2token: list of tokens, where id2token[i] returns token that corresponds to token i\n",
    "    # token2id: dictionary where keys represent tokens and corresponding values represent indices\n",
    "    token_counter = Counter(all_tokens)\n",
    "    vocab, count = zip(*token_counter.most_common(max_vocab_size)) #* unzips the tuples\n",
    "    id2token = list(vocab) #list of words\n",
    "    token2id = dict(zip(vocab, range(2,2+len(vocab)))) # dictionary of words and indices \n",
    "    id2token = ['<pad>', '<unk>'] + id2token #add pad and unknown to the beginning\n",
    "    token2id['<pad>'] = PAD_IDX  #add pad symbol to the dictionary\n",
    "    token2id['<unk>'] = UNK_IDX  #add unkown symbol to the dictionary\n",
    "    return token2id, id2token\n",
    "\n",
    "token2id, id2token = build_vocab(all_train_tokens)"
   ]
  },
  {
   "cell_type": "code",
   "execution_count": 49,
   "metadata": {},
   "outputs": [
    {
     "name": "stdout",
     "output_type": "stream",
     "text": [
      "Token id 7480 ; token destructive\n",
      "Token destructive; token id 7480\n"
     ]
    }
   ],
   "source": [
    "# Lets check the dictionary by loading random token from it\n",
    "\n",
    "random_token_id = random.randint(0, len(id2token)-1)\n",
    "random_token = id2token[random_token_id]\n",
    "\n",
    "print (\"Token id {} ; token {}\".format(random_token_id, id2token[random_token_id]))\n",
    "print (\"Token {}; token id {}\".format(random_token, token2id[random_token]))"
   ]
  },
  {
   "cell_type": "code",
   "execution_count": 50,
   "metadata": {},
   "outputs": [
    {
     "name": "stdout",
     "output_type": "stream",
     "text": [
      "Train dataset size is 20000\n",
      "Val dataset size is 5000\n",
      "Test dataset size is 25000\n"
     ]
    }
   ],
   "source": [
    "# convert token to id in the dataset\n",
    "def token2index_dataset(tokens_data):\n",
    "    indices_data = []\n",
    "    for tokens in tokens_data:\n",
    "        index_list = [token2id[token] if token in token2id else UNK_IDX for token in tokens] #tokenizes 10k words\n",
    "        indices_data.append(index_list) #list of lists: indices of tokens for each sentence\n",
    "    return indices_data\n",
    "\n",
    "train_data_indices = token2index_dataset(train_data_tokens)\n",
    "val_data_indices = token2index_dataset(val_data_tokens)\n",
    "test_data_indices = token2index_dataset(test_data_tokens)\n",
    "\n",
    "# double checking\n",
    "print (\"Train dataset size is {}\".format(len(train_data_indices)))\n",
    "print (\"Val dataset size is {}\".format(len(val_data_indices)))\n",
    "print (\"Test dataset size is {}\".format(len(test_data_indices)))"
   ]
  },
  {
   "cell_type": "markdown",
   "metadata": {},
   "source": [
    "Now we are going to create PyTorch DataLoader "
   ]
  },
  {
   "cell_type": "code",
   "execution_count": 53,
   "metadata": {},
   "outputs": [],
   "source": [
    "MAX_SENTENCE_LENGTH = 200 #80/90% of document\n",
    "\n",
    "class imdb_Dataset(Dataset):\n",
    "    \"\"\"\n",
    "    Class that represents a train/validation/test dataset that's readable for PyTorch\n",
    "    Note that this class inherits torch.utils.data.Dataset\n",
    "    \"\"\"\n",
    "    \n",
    "    def __init__(self, data_list, target_list): #initialize target and input\n",
    "        \"\"\"\n",
    "        @param data_list: list of newsgroup tokens \n",
    "        @param target_list: list of newsgroup targets \n",
    "\n",
    "        \"\"\"\n",
    "        self.data_list = data_list\n",
    "        self.target_list = target_list\n",
    "        assert (len(self.data_list) == len(self.target_list))\n",
    "\n",
    "    def __len__(self):\n",
    "        return len(self.data_list)\n",
    "        \n",
    "    def __getitem__(self, key):\n",
    "        \"\"\"\n",
    "        Triggered when you call dataset[i]\n",
    "        \"\"\"\n",
    "        \n",
    "        tokens = self.data_list[key][:MAX_SENTENCE_LENGTH]\n",
    "        label = self.target_list[key]\n",
    "        return [tokens, len(tokens), label]\n",
    "\n",
    "def imdb_collate_func(batch): #padding so all data have same length\n",
    "    \"\"\"\n",
    "    Customized function for DataLoader that dynamically pads the batch so that all \n",
    "    data have the same length\n",
    "    \"\"\"\n",
    "    data_list = []\n",
    "    label_list = []\n",
    "    length_list = []\n",
    "    #print(\"collate batch: \", batch[0][0])\n",
    "    #batch[0][0] = batch[0][0][:MAX_SENTENCE_LENGTH]\n",
    "    for datum in batch:\n",
    "        label_list.append(datum[2]) #list of labels\n",
    "        length_list.append(datum[1]) #length of text\n",
    "    # padding\n",
    "    for datum in batch:\n",
    "        padded_vec = np.pad(np.array(datum[0]), \n",
    "                                pad_width=((0,MAX_SENTENCE_LENGTH-datum[1])), \n",
    "                                mode=\"constant\", constant_values=0)\n",
    "        data_list.append(padded_vec)\n",
    "    return [torch.from_numpy(np.array(data_list)), torch.LongTensor(length_list), torch.LongTensor(label_list)]\n",
    "\n",
    "# create pytorch dataloader\n",
    "#train_loader = NewsGroupDataset(train_data_indices, train_targets)\n",
    "#val_loader = NewsGroupDataset(val_data_indices, val_targets)\n",
    "#test_loader = NewsGroupDataset(test_data_indices, test_targets)\n",
    "\n",
    "BATCH_SIZE = 32\n",
    "train_dataset = imdb_Dataset(train_data_indices, train_targets)\n",
    "train_loader = torch.utils.data.DataLoader(dataset=train_dataset, \n",
    "                                           batch_size=BATCH_SIZE,\n",
    "                                           collate_fn=imdb_collate_func,\n",
    "                                           shuffle=True) #shuffle train\n",
    "\n",
    "val_dataset = imdb_Dataset(val_data_indices, val_targets)\n",
    "val_loader = torch.utils.data.DataLoader(dataset=val_dataset, \n",
    "                                           batch_size=BATCH_SIZE,\n",
    "                                           collate_fn=imdb_collate_func,\n",
    "                                           shuffle=True) #shuffle val\n",
    "\n",
    "test_dataset = imdb_Dataset(test_data_indices, test_targets)\n",
    "test_loader = torch.utils.data.DataLoader(dataset=test_dataset, \n",
    "                                           batch_size=BATCH_SIZE,\n",
    "                                           collate_fn=imdb_collate_func,\n",
    "                                           shuffle=False) #don't shuffle test\n",
    "\n",
    "#for i, (data, lengths, labels) in enumerate(train_loader):\n",
    "#    print (data)\n",
    "#    print (labels)\n",
    "#    break"
   ]
  },
  {
   "cell_type": "markdown",
   "metadata": {},
   "source": [
    "Here we will define Bag-of-Words model in PyTorch"
   ]
  },
  {
   "cell_type": "code",
   "execution_count": 55,
   "metadata": {
    "collapsed": true
   },
   "outputs": [],
   "source": [
    "class BagOfWords(nn.Module):\n",
    "    \"\"\"\n",
    "    BagOfWords classification model\n",
    "    \"\"\"\n",
    "    def __init__(self, vocab_size, emb_dim):\n",
    "        \"\"\"\n",
    "        @param vocab_size: size of the vocabulary. \n",
    "        @param emb_dim: size of the word embedding\n",
    "        \"\"\"\n",
    "        super(BagOfWords, self).__init__()\n",
    "        # pay attention to padding_idx \n",
    "        self.embed = nn.Embedding(vocab_size, emb_dim, padding_idx=0)\n",
    "        self.linear = nn.Linear(emb_dim,20)\n",
    "    \n",
    "    def forward(self, data, length):\n",
    "        \"\"\"\n",
    "        \n",
    "        @param data: matrix of size (batch_size, max_sentence_length). Each row in data represents a \n",
    "            review that is represented using n-gram index. Note that they are padded to have same length.\n",
    "        @param length: an int tensor of size (batch_size), which represents the non-trivial (excludes padding)\n",
    "            length of each sentences in the data.\n",
    "        \"\"\"\n",
    "        out = self.embed(data)\n",
    "        out = torch.sum(out, dim=1)\n",
    "        out /= length.view(length.size()[0],1).expand_as(out).float() #make same shape as out\n",
    "     \n",
    "        # return logits\n",
    "        out = self.linear(out.float())\n",
    "        return out\n",
    "\n",
    "emb_dim = 100\n",
    "model = BagOfWords(len(id2token), emb_dim)"
   ]
  },
  {
   "cell_type": "code",
   "execution_count": 63,
   "metadata": {},
   "outputs": [
    {
     "name": "stdout",
     "output_type": "stream",
     "text": [
      "Epoch: [1/10], Step: [101/625], Validation Acc: 84.9\n",
      "Epoch: [1/10], Step: [201/625], Validation Acc: 85.12\n",
      "Epoch: [1/10], Step: [301/625], Validation Acc: 85.14\n",
      "Epoch: [1/10], Step: [401/625], Validation Acc: 85.08\n",
      "Epoch: [1/10], Step: [501/625], Validation Acc: 84.66\n",
      "Epoch: [1/10], Step: [601/625], Validation Acc: 85.2\n",
      "Epoch: [2/10], Step: [101/625], Validation Acc: 84.86\n",
      "Epoch: [2/10], Step: [201/625], Validation Acc: 85.34\n",
      "Epoch: [2/10], Step: [301/625], Validation Acc: 84.78\n",
      "Epoch: [2/10], Step: [401/625], Validation Acc: 85.02\n",
      "Epoch: [2/10], Step: [501/625], Validation Acc: 84.92\n",
      "Epoch: [2/10], Step: [601/625], Validation Acc: 84.52\n",
      "Epoch: [3/10], Step: [101/625], Validation Acc: 84.76\n",
      "Epoch: [3/10], Step: [201/625], Validation Acc: 84.72\n",
      "Epoch: [3/10], Step: [301/625], Validation Acc: 84.82\n",
      "Epoch: [3/10], Step: [401/625], Validation Acc: 84.62\n",
      "Epoch: [3/10], Step: [501/625], Validation Acc: 85.04\n",
      "Epoch: [3/10], Step: [601/625], Validation Acc: 84.1\n",
      "Epoch: [4/10], Step: [101/625], Validation Acc: 84.58\n",
      "Epoch: [4/10], Step: [201/625], Validation Acc: 84.88\n",
      "Epoch: [4/10], Step: [301/625], Validation Acc: 85.1\n",
      "Epoch: [4/10], Step: [401/625], Validation Acc: 85.14\n",
      "Epoch: [4/10], Step: [501/625], Validation Acc: 84.72\n",
      "Epoch: [4/10], Step: [601/625], Validation Acc: 84.92\n",
      "Epoch: [5/10], Step: [101/625], Validation Acc: 84.96\n",
      "Epoch: [5/10], Step: [201/625], Validation Acc: 84.94\n",
      "Epoch: [5/10], Step: [301/625], Validation Acc: 85.06\n",
      "Epoch: [5/10], Step: [401/625], Validation Acc: 84.0\n",
      "Epoch: [5/10], Step: [501/625], Validation Acc: 84.28\n",
      "Epoch: [5/10], Step: [601/625], Validation Acc: 84.78\n",
      "Epoch: [6/10], Step: [101/625], Validation Acc: 84.42\n",
      "Epoch: [6/10], Step: [201/625], Validation Acc: 84.44\n",
      "Epoch: [6/10], Step: [301/625], Validation Acc: 84.46\n",
      "Epoch: [6/10], Step: [401/625], Validation Acc: 84.36\n",
      "Epoch: [6/10], Step: [501/625], Validation Acc: 83.76\n",
      "Epoch: [6/10], Step: [601/625], Validation Acc: 84.82\n",
      "Epoch: [7/10], Step: [101/625], Validation Acc: 84.84\n",
      "Epoch: [7/10], Step: [201/625], Validation Acc: 85.3\n",
      "Epoch: [7/10], Step: [301/625], Validation Acc: 84.74\n",
      "Epoch: [7/10], Step: [401/625], Validation Acc: 85.12\n",
      "Epoch: [7/10], Step: [501/625], Validation Acc: 84.68\n",
      "Epoch: [7/10], Step: [601/625], Validation Acc: 84.68\n",
      "Epoch: [8/10], Step: [101/625], Validation Acc: 84.72\n",
      "Epoch: [8/10], Step: [201/625], Validation Acc: 84.66\n",
      "Epoch: [8/10], Step: [301/625], Validation Acc: 84.64\n",
      "Epoch: [8/10], Step: [401/625], Validation Acc: 84.86\n",
      "Epoch: [8/10], Step: [501/625], Validation Acc: 84.74\n",
      "Epoch: [8/10], Step: [601/625], Validation Acc: 84.5\n",
      "Epoch: [9/10], Step: [101/625], Validation Acc: 84.6\n",
      "Epoch: [9/10], Step: [201/625], Validation Acc: 84.24\n",
      "Epoch: [9/10], Step: [301/625], Validation Acc: 84.52\n",
      "Epoch: [9/10], Step: [401/625], Validation Acc: 84.56\n",
      "Epoch: [9/10], Step: [501/625], Validation Acc: 84.56\n",
      "Epoch: [9/10], Step: [601/625], Validation Acc: 84.2\n",
      "Epoch: [10/10], Step: [101/625], Validation Acc: 84.14\n",
      "Epoch: [10/10], Step: [201/625], Validation Acc: 84.44\n",
      "Epoch: [10/10], Step: [301/625], Validation Acc: 84.4\n",
      "Epoch: [10/10], Step: [401/625], Validation Acc: 84.38\n",
      "Epoch: [10/10], Step: [501/625], Validation Acc: 84.48\n",
      "Epoch: [10/10], Step: [601/625], Validation Acc: 84.4\n"
     ]
    }
   ],
   "source": [
    "learning_rate = 0.01\n",
    "num_epochs = 10 # number epoch to train\n",
    "\n",
    "# Criterion and Optimizer\n",
    "criterion = torch.nn.CrossEntropyLoss()  \n",
    "optimizer = torch.optim.Adam(model.parameters(), lr=learning_rate)\n",
    "\n",
    "# Function for testing the model\n",
    "def test_model(loader, model):\n",
    "    \"\"\"\n",
    "    Help function that tests the model's performance on a dataset\n",
    "    @param: loader - data loader for the dataset to test against\n",
    "    \"\"\"\n",
    "    correct = 0\n",
    "    total = 0\n",
    "    model.eval()\n",
    "    for data, lengths, labels in loader:\n",
    "        data_batch, length_batch, label_batch = data, lengths, labels\n",
    "        outputs = F.softmax(model(data_batch, length_batch), dim=1)\n",
    "        predicted = outputs.max(1, keepdim=True)[1]\n",
    "        \n",
    "        total += labels.size(0)\n",
    "        correct += predicted.eq(labels.view_as(predicted)).sum().item()\n",
    "    return (100 * correct / total)\n",
    "\n",
    "train_acc_hist = []\n",
    "val_acc_hist = []\n",
    "\n",
    "for epoch in range(num_epochs):\n",
    "    for i, (data, lengths, labels) in enumerate(train_loader):\n",
    "        model.train() #set training mode\n",
    "        data_batch, length_batch, label_batch = data, lengths, labels\n",
    "        optimizer.zero_grad() #zero our gradients\n",
    "        outputs = model(data_batch, length_batch)\n",
    "        loss = criterion(outputs, label_batch) #calculate loss\n",
    "        loss.backward() #backpropagate\n",
    "        optimizer.step() #update weights\n",
    "        # validate every 100 iterations\n",
    "        if i > 0 and i % 100 == 0:\n",
    "            # validate\n",
    "            val_acc = test_model(val_loader, model)\n",
    "            print('Epoch: [{}/{}], Step: [{}/{}], Validation Acc: {}'.format( \n",
    "                       epoch+1, num_epochs, i+1, len(train_loader), val_acc))\n",
    "            \n",
    "            #Save performance for plotting\n",
    "            val_acc_hist.append(val_acc)\n",
    "            train_acc = test_model(train_loader, model)\n",
    "            train_acc_hist.append(train_acc)\n",
    "    \n"
   ]
  },
  {
   "cell_type": "code",
   "execution_count": 64,
   "metadata": {},
   "outputs": [
    {
     "name": "stdout",
     "output_type": "stream",
     "text": [
      "After training for 10 epochs\n",
      "Val Acc 84.3\n",
      "Test Acc 50.0\n"
     ]
    }
   ],
   "source": [
    "print (\"After training for {} epochs\".format(num_epochs))\n",
    "print (\"Val Acc {}\".format(test_model(val_loader, model)))\n",
    "print (\"Test Acc {}\".format(test_model(test_loader, model)))"
   ]
  },
  {
   "cell_type": "code",
   "execution_count": 80,
   "metadata": {},
   "outputs": [
    {
     "data": {
      "image/png": "[encoded data removed]",
      "text/plain": [
       "<matplotlib.figure.Figure at 0x11432d908>"
      ]
     },
     "metadata": {},
     "output_type": "display_data"
    }
   ],
   "source": [
    "plt.plot(train_acc_hist, label='Train Set Accuracy')\n",
    "plt.plot(val_acc_hist, label='Val Set Accuracy')\n",
    "plt.ylabel('Accuracy')\n",
    "plt.xlabel('Iteration')\n",
    "plt.title('Training Curves')\n",
    "plt.legend()\n",
    "plt.show()"
   ]
  },
  {
   "cell_type": "code",
   "execution_count": null,
   "metadata": {
    "collapsed": true
   },
   "outputs": [],
   "source": []
  }
 ],
 "metadata": {
  "anaconda-cloud": {},
  "kernelspec": {
   "display_name": "Python 3",
   "language": "python",
   "name": "python3"
  },
  "language_info": {
   "codemirror_mode": {
    "name": "ipython",
    "version": 3
   },
   "file_extension": ".py",
   "mimetype": "text/x-python",
   "name": "python",
   "nbconvert_exporter": "python",
   "pygments_lexer": "ipython3",
   "version": "3.6.2"
  }
 },
 "nbformat": 4,
 "nbformat_minor": 1
}
